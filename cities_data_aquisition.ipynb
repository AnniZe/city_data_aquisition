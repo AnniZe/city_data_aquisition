{
 "cells": [
  {
   "cell_type": "code",
   "execution_count": 1,
   "metadata": {},
   "outputs": [],
   "source": [
    "import pandas as pd\n",
    "import requests\n",
    "from bs4 import BeautifulSoup\n",
    "from lat_lon_parser import parse\n",
    "from datetime import datetime, timedelta\n",
    "from pytz import timezone\n",
    "from safe import sql_password, weather_api_key, rapidapi_key #.py file with keys etc.\n",
    "import sqlalchemy\n",
    "import pymysql"
   ]
  },
  {
   "cell_type": "markdown",
   "metadata": {},
   "source": [
    "# Get City Data Via Webscraping"
   ]
  },
  {
   "cell_type": "markdown",
   "metadata": {},
   "source": [
    "## Get City Data (incl. Latitude & Longitude)"
   ]
  },
  {
   "cell_type": "code",
   "execution_count": 2,
   "metadata": {},
   "outputs": [
    {
     "data": {
      "text/html": [
       "<div>\n",
       "<style scoped>\n",
       "    .dataframe tbody tr th:only-of-type {\n",
       "        vertical-align: middle;\n",
       "    }\n",
       "\n",
       "    .dataframe tbody tr th {\n",
       "        vertical-align: top;\n",
       "    }\n",
       "\n",
       "    .dataframe thead th {\n",
       "        text-align: right;\n",
       "    }\n",
       "</style>\n",
       "<table border=\"1\" class=\"dataframe\">\n",
       "  <thead>\n",
       "    <tr style=\"text-align: right;\">\n",
       "      <th></th>\n",
       "      <th>city</th>\n",
       "      <th>country</th>\n",
       "      <th>latitude</th>\n",
       "      <th>longitude</th>\n",
       "    </tr>\n",
       "  </thead>\n",
       "  <tbody>\n",
       "    <tr>\n",
       "      <th>0</th>\n",
       "      <td>Berlin</td>\n",
       "      <td>Germany</td>\n",
       "      <td>52.5200</td>\n",
       "      <td>13.405</td>\n",
       "    </tr>\n",
       "    <tr>\n",
       "      <th>1</th>\n",
       "      <td>Hamburg</td>\n",
       "      <td>Germany</td>\n",
       "      <td>53.5500</td>\n",
       "      <td>10.000</td>\n",
       "    </tr>\n",
       "    <tr>\n",
       "      <th>2</th>\n",
       "      <td>Munich</td>\n",
       "      <td>Germany</td>\n",
       "      <td>48.1375</td>\n",
       "      <td>11.575</td>\n",
       "    </tr>\n",
       "  </tbody>\n",
       "</table>\n",
       "</div>"
      ],
      "text/plain": [
       "      city  country  latitude  longitude\n",
       "0   Berlin  Germany   52.5200     13.405\n",
       "1  Hamburg  Germany   53.5500     10.000\n",
       "2   Munich  Germany   48.1375     11.575"
      ]
     },
     "execution_count": 2,
     "metadata": {},
     "output_type": "execute_result"
    }
   ],
   "source": [
    "# City DataFrame\n",
    "cities = ['Berlin','Hamburg','Munich']\n",
    "\n",
    "city_data =[]\n",
    "\n",
    "for city in cities:\n",
    "    url = str(f'https://en.wikipedia.org/wiki/{city}')\n",
    "    response = requests.get(url)\n",
    "    soup_c = BeautifulSoup(response.content, 'html.parser')\n",
    "\n",
    "    country = soup_c.find(class_ = 'infobox-data').get_text()\n",
    "    latitude = soup_c.find(class_ = 'latitude').get_text()\n",
    "    longitude = soup_c.find(class_ = 'longitude').get_text()\n",
    "\n",
    "    city_data.append({'city':city,\n",
    "                      'country':country,\n",
    "                      'latitude':parse(latitude),       # convert to decimal ( with parse)\n",
    "                      'longitude':parse(longitude)})    # convert to decimal ( with parse)\n",
    "    \n",
    "\n",
    "cities_df = pd.DataFrame(city_data)\n",
    "cities_df"
   ]
  },
  {
   "cell_type": "markdown",
   "metadata": {},
   "source": [
    "## Get Population Data"
   ]
  },
  {
   "cell_type": "code",
   "execution_count": 3,
   "metadata": {},
   "outputs": [
    {
     "data": {
      "text/html": [
       "<div>\n",
       "<style scoped>\n",
       "    .dataframe tbody tr th:only-of-type {\n",
       "        vertical-align: middle;\n",
       "    }\n",
       "\n",
       "    .dataframe tbody tr th {\n",
       "        vertical-align: top;\n",
       "    }\n",
       "\n",
       "    .dataframe thead th {\n",
       "        text-align: right;\n",
       "    }\n",
       "</style>\n",
       "<table border=\"1\" class=\"dataframe\">\n",
       "  <thead>\n",
       "    <tr style=\"text-align: right;\">\n",
       "      <th></th>\n",
       "      <th>city</th>\n",
       "      <th>population</th>\n",
       "      <th>year_data</th>\n",
       "    </tr>\n",
       "  </thead>\n",
       "  <tbody>\n",
       "    <tr>\n",
       "      <th>0</th>\n",
       "      <td>Berlin</td>\n",
       "      <td>3878100</td>\n",
       "      <td>2024</td>\n",
       "    </tr>\n",
       "    <tr>\n",
       "      <th>1</th>\n",
       "      <td>Hamburg</td>\n",
       "      <td>1964021</td>\n",
       "      <td>2024</td>\n",
       "    </tr>\n",
       "    <tr>\n",
       "      <th>2</th>\n",
       "      <td>Munich</td>\n",
       "      <td>1510378</td>\n",
       "      <td>2024</td>\n",
       "    </tr>\n",
       "  </tbody>\n",
       "</table>\n",
       "</div>"
      ],
      "text/plain": [
       "      city  population year_data\n",
       "0   Berlin     3878100      2024\n",
       "1  Hamburg     1964021      2024\n",
       "2   Munich     1510378      2024"
      ]
     },
     "execution_count": 3,
     "metadata": {},
     "output_type": "execute_result"
    }
   ],
   "source": [
    "# Population DataFrame\n",
    "\n",
    "population_data = []\n",
    "\n",
    "for city in cities:\n",
    "    url = str(f'https://en.wikipedia.org/wiki/{city}')\n",
    "    response = requests.get(url)\n",
    "    soup_c = BeautifulSoup(response.content, 'html.parser')\n",
    "\n",
    "    population = (soup_c.find('table', class_ = 'vcard')\n",
    "                  .find(string = 'Population')\n",
    "                  .find_next('td')\n",
    "                  .get_text())\n",
    "    population_clean = population.replace(',','')                   # clean data to make it readable as an integer\n",
    "    date = datetime.today().strftime('%Y')                          # convert date to datetime datatype\n",
    "\n",
    "    population_data.append({'city':city,\n",
    "                            'population':int(population_clean),     # convert population to integer\n",
    "                            'year_data':date})\n",
    "    \n",
    "population_df = pd.DataFrame(population_data)\n",
    "population_df"
   ]
  },
  {
   "cell_type": "markdown",
   "metadata": {},
   "source": [
    "## Send Data to SQL"
   ]
  },
  {
   "cell_type": "code",
   "execution_count": 4,
   "metadata": {},
   "outputs": [],
   "source": [
    "# Connect to SQL\n",
    "\n",
    "schema = 'cities'\n",
    "host = '127.0.0.1'\n",
    "user = 'root'\n",
    "password = sql_password\n",
    "port = 3306\n",
    "\n",
    "connection_string = f'mysql+pymysql://{user}:{password}@{host}:{port}/{schema}'"
   ]
  },
  {
   "cell_type": "code",
   "execution_count": 5,
   "metadata": {},
   "outputs": [
    {
     "data": {
      "text/plain": [
       "3"
      ]
     },
     "execution_count": 5,
     "metadata": {},
     "output_type": "execute_result"
    }
   ],
   "source": [
    "# Send Cities DataFrame to SQL\n",
    "\n",
    "cities_df.to_sql('city',\n",
    "                 if_exists='append',\n",
    "                 con=connection_string,\n",
    "                 index=False)"
   ]
  },
  {
   "cell_type": "code",
   "execution_count": 6,
   "metadata": {},
   "outputs": [
    {
     "data": {
      "text/html": [
       "<div>\n",
       "<style scoped>\n",
       "    .dataframe tbody tr th:only-of-type {\n",
       "        vertical-align: middle;\n",
       "    }\n",
       "\n",
       "    .dataframe tbody tr th {\n",
       "        vertical-align: top;\n",
       "    }\n",
       "\n",
       "    .dataframe thead th {\n",
       "        text-align: right;\n",
       "    }\n",
       "</style>\n",
       "<table border=\"1\" class=\"dataframe\">\n",
       "  <thead>\n",
       "    <tr style=\"text-align: right;\">\n",
       "      <th></th>\n",
       "      <th>city_id</th>\n",
       "      <th>city</th>\n",
       "      <th>country</th>\n",
       "      <th>latitude</th>\n",
       "      <th>longitude</th>\n",
       "    </tr>\n",
       "  </thead>\n",
       "  <tbody>\n",
       "    <tr>\n",
       "      <th>0</th>\n",
       "      <td>1</td>\n",
       "      <td>Berlin</td>\n",
       "      <td>Germany</td>\n",
       "      <td>52.5200</td>\n",
       "      <td>13.405</td>\n",
       "    </tr>\n",
       "    <tr>\n",
       "      <th>1</th>\n",
       "      <td>2</td>\n",
       "      <td>Hamburg</td>\n",
       "      <td>Germany</td>\n",
       "      <td>53.5500</td>\n",
       "      <td>10.000</td>\n",
       "    </tr>\n",
       "    <tr>\n",
       "      <th>2</th>\n",
       "      <td>3</td>\n",
       "      <td>Munich</td>\n",
       "      <td>Germany</td>\n",
       "      <td>48.1375</td>\n",
       "      <td>11.575</td>\n",
       "    </tr>\n",
       "  </tbody>\n",
       "</table>\n",
       "</div>"
      ],
      "text/plain": [
       "   city_id     city  country  latitude  longitude\n",
       "0        1   Berlin  Germany   52.5200     13.405\n",
       "1        2  Hamburg  Germany   53.5500     10.000\n",
       "2        3   Munich  Germany   48.1375     11.575"
      ]
     },
     "execution_count": 6,
     "metadata": {},
     "output_type": "execute_result"
    }
   ],
   "source": [
    "# Get city from SQL for foreign key in population\n",
    "\n",
    "city_from_sql = pd.read_sql('city', con=connection_string)\n",
    "city_from_sql"
   ]
  },
  {
   "cell_type": "code",
   "execution_count": 7,
   "metadata": {},
   "outputs": [
    {
     "data": {
      "text/html": [
       "<div>\n",
       "<style scoped>\n",
       "    .dataframe tbody tr th:only-of-type {\n",
       "        vertical-align: middle;\n",
       "    }\n",
       "\n",
       "    .dataframe tbody tr th {\n",
       "        vertical-align: top;\n",
       "    }\n",
       "\n",
       "    .dataframe thead th {\n",
       "        text-align: right;\n",
       "    }\n",
       "</style>\n",
       "<table border=\"1\" class=\"dataframe\">\n",
       "  <thead>\n",
       "    <tr style=\"text-align: right;\">\n",
       "      <th></th>\n",
       "      <th>population</th>\n",
       "      <th>year_data</th>\n",
       "      <th>city_id</th>\n",
       "    </tr>\n",
       "  </thead>\n",
       "  <tbody>\n",
       "    <tr>\n",
       "      <th>0</th>\n",
       "      <td>3878100</td>\n",
       "      <td>2024</td>\n",
       "      <td>1</td>\n",
       "    </tr>\n",
       "    <tr>\n",
       "      <th>1</th>\n",
       "      <td>1964021</td>\n",
       "      <td>2024</td>\n",
       "      <td>2</td>\n",
       "    </tr>\n",
       "    <tr>\n",
       "      <th>2</th>\n",
       "      <td>1510378</td>\n",
       "      <td>2024</td>\n",
       "      <td>3</td>\n",
       "    </tr>\n",
       "  </tbody>\n",
       "</table>\n",
       "</div>"
      ],
      "text/plain": [
       "   population year_data  city_id\n",
       "0     3878100      2024        1\n",
       "1     1964021      2024        2\n",
       "2     1510378      2024        3"
      ]
     },
     "execution_count": 7,
     "metadata": {},
     "output_type": "execute_result"
    }
   ],
   "source": [
    "# Prepare Population DataFrame to be send to SQL\n",
    "\n",
    "# Add city ID (for foreign key in SQL)\n",
    "population_df = population_df.merge(city_from_sql[['city_id','city']],\n",
    "                          on ='city',\n",
    "                          how='left')\n",
    "\n",
    "# Drop unnecessary columns\n",
    "population_df = population_df.drop(columns=['city'])\n",
    "\n",
    "population_df"
   ]
  },
  {
   "cell_type": "code",
   "execution_count": 8,
   "metadata": {},
   "outputs": [
    {
     "data": {
      "text/plain": [
       "3"
      ]
     },
     "execution_count": 8,
     "metadata": {},
     "output_type": "execute_result"
    }
   ],
   "source": [
    "# Send Population DataFrame to SQL\n",
    "population_df.to_sql('population',\n",
    "                 if_exists='append',\n",
    "                 con=connection_string,\n",
    "                 index=False)"
   ]
  },
  {
   "cell_type": "markdown",
   "metadata": {},
   "source": [
    "# Get Weather Data via API (openWeather)"
   ]
  },
  {
   "cell_type": "code",
   "execution_count": 27,
   "metadata": {},
   "outputs": [],
   "source": [
    "# Function to retrieve weather data \n",
    "\n",
    "def retrieval_and_send_data():\n",
    "    connection_string = create_connection_string()\n",
    "    cities_df = fetch_cities_data(connection_string)\n",
    "    weather_df = retrieve_weather_data(cities_df)\n",
    "    store_weather_data(weather_df,connection_string)\n",
    "    return 'Data updated'\n",
    "\n",
    "def create_connection_string():\n",
    "    schema = 'cities'\n",
    "    host = '127.0.0.1'\n",
    "    user = 'root'\n",
    "    password = sql_password\n",
    "    port = 3306\n",
    "    return f'mysql+pymysql://{user}:{password}@{host}:{port}/{schema}'\n",
    "\n",
    "def fetch_cities_data(connection_string):\n",
    "    return pd.read_sql('city', con=connection_string)\n",
    "\n",
    "\n",
    "def retrieve_weather_data(cities_df):\n",
    "    weather_data = {'forecast_time':[],\n",
    "                           'descr':[],\n",
    "                           'temperature':[],\n",
    "                           'feels_like':[],\n",
    "                           'humidity':[],\n",
    "                           'wind':[],\n",
    "                           'weatherstation':[],\n",
    "                           'time_retrieved':[],\n",
    "                           'city_id':[]}\n",
    "   \n",
    "\n",
    "    # get api connection\n",
    "    for _,c in cities_df.iterrows():\n",
    "\n",
    "        #get JSON \n",
    "        url = 'https://api.openweathermap.org/data/2.5/forecast'\n",
    "        latitude = c['latitude']   # (cities_df.loc[cities_df['city'] == c,'latitude'])\n",
    "        longitude = c['longitude'] # (cities_df.loc[cities_df['city'] == c,'longitude']).astype('float')\n",
    "        city_id = c['city_id'] # (cities_df.loc[cities_df['city'] == c,'city_id'])\n",
    "        appid = weather_api_key\n",
    "        units = 'metric'\n",
    "        querystring = {'lat':latitude,'lon':longitude,'appid':appid, 'units':units}\n",
    "\n",
    "        weather = requests.request('GET', url , params=querystring)\n",
    "        weather_json = weather.json()\n",
    "\n",
    "        # get DataFrame\n",
    "        forecast = weather_json['cnt']\n",
    "        \n",
    "        for fc in range(forecast):\n",
    "            weather_data['forecast_time'].append(weather_json['list'][fc]['dt_txt'])\n",
    "            weather_data['descr'].append(weather_json['list'][fc]['weather'][0]['description'])\n",
    "            weather_data['temperature'].append(weather_json['list'][0]['main']['temp'])\n",
    "            weather_data['feels_like'].append(weather_json['list'][0]['main']['feels_like'])\n",
    "            weather_data['humidity'].append(weather_json['list'][0]['main']['humidity'])\n",
    "            weather_data['wind'].append(weather_json['list'][0]['wind']['speed'])\n",
    "            weather_data['weatherstation'].append(weather_json['city']['name'])\n",
    "            weather_data['time_retrieved'].append(datetime.today().strftime('%d-%m-%Y %H:%M:%S'))\n",
    "            weather_data['city_id'].append(city_id)\n",
    "\n",
    "    weather_df = pd.DataFrame(weather_data)\n",
    "    weather_df['forecast_time'] = pd.to_datetime(weather_df['forecast_time'])\n",
    "    weather_df['time_retrieved'] = pd.to_datetime(weather_df['time_retrieved'])\n",
    "\n",
    "    \n",
    "    return weather_df \n",
    "\n",
    "def store_weather_data(weather_df,connection_string):\n",
    "    weather_df.to_sql('weather', if_exists='append', con= connection_string, index=False)"
   ]
  },
  {
   "cell_type": "code",
   "execution_count": 28,
   "metadata": {},
   "outputs": [
    {
     "data": {
      "text/plain": [
       "'Data updated'"
      ]
     },
     "execution_count": 28,
     "metadata": {},
     "output_type": "execute_result"
    }
   ],
   "source": [
    "# Run function\n",
    "retrieval_and_send_data()"
   ]
  },
  {
   "cell_type": "markdown",
   "metadata": {},
   "source": [
    "# Get Flight Info via API"
   ]
  },
  {
   "cell_type": "markdown",
   "metadata": {},
   "source": [
    "## Retrieve Airport Info"
   ]
  },
  {
   "cell_type": "code",
   "execution_count": 29,
   "metadata": {},
   "outputs": [],
   "source": [
    "# Cet longitudes & latitudes from SQL\n",
    "# connect to SQL\n",
    "schema = 'cities'\n",
    "host = '127.0.0.1'\n",
    "user = 'root'\n",
    "password = sql_password\n",
    "port = 3306\n",
    "\n",
    "connection_string = f'mysql+pymysql://{user}:{password}@{host}:{port}/{schema}'\n",
    "\n",
    "# get cities table\n",
    "cities_sql = pd.read_sql('city', con=connection_string)\n",
    "\n",
    "#latitudes & longitudes\n",
    "latitude = list(cities_sql['latitude'])\n",
    "longitude = list(cities_sql['longitude'])"
   ]
  },
  {
   "cell_type": "code",
   "execution_count": 30,
   "metadata": {},
   "outputs": [],
   "source": [
    "# Retrieval function\n",
    "def icao_airport_codes(latitudes, longitudes):\n",
    "  \n",
    "  list_for_df = []\n",
    "\n",
    "  for index, value in enumerate(latitudes):\n",
    "\n",
    "    url = f\"https://aerodatabox.p.rapidapi.com/airports/search/location/{value}/{longitudes[index]}/km/50/10\"\n",
    "\n",
    "    querystring = {\"withFlightInfoOnly\":\"true\"}\n",
    "\n",
    "    headers = {\n",
    "      \"X-RapidAPI-Host\": \"aerodatabox.p.rapidapi.com\",\n",
    "      \"X-RapidAPI-Key\": rapidapi_key\n",
    "    }\n",
    "\n",
    "    response = requests.request(\"GET\", url, headers=headers, params=querystring)\n",
    "\n",
    "    list_for_df.append(pd.json_normalize(response.json()['items']))\n",
    "\n",
    "  return pd.concat(list_for_df, ignore_index=True)"
   ]
  },
  {
   "cell_type": "code",
   "execution_count": 31,
   "metadata": {},
   "outputs": [],
   "source": [
    "# Run function for cities from SQL\n",
    "latitudes = latitude\n",
    "longitudes = longitude\n",
    "\n",
    "city_airports = icao_airport_codes(latitudes, longitudes)"
   ]
  },
  {
   "cell_type": "code",
   "execution_count": 32,
   "metadata": {},
   "outputs": [],
   "source": [
    "# Prep table to push to SQL\n",
    "city_airports = city_airports.merge(cities_sql[['city_id','city']],\n",
    "                                    how='left',\n",
    "                                    left_on='municipalityName',\n",
    "                                    right_on = 'city')\n",
    "# Condense to important info\n",
    "city_airport = city_airports[['icao','iata','name','city_id']]\n",
    "city_airport = city_airport.rename(columns={'name':'airport_name'},errors='raise')"
   ]
  },
  {
   "cell_type": "code",
   "execution_count": 33,
   "metadata": {},
   "outputs": [
    {
     "data": {
      "text/plain": [
       "3"
      ]
     },
     "execution_count": 33,
     "metadata": {},
     "output_type": "execute_result"
    }
   ],
   "source": [
    "# Send to sql\n",
    "city_airport.to_sql('airport',\n",
    "                    if_exists='append',\n",
    "                    con=connection_string,\n",
    "                    index=False)"
   ]
  },
  {
   "cell_type": "markdown",
   "metadata": {},
   "source": [
    "## Retrieve Flight Data"
   ]
  },
  {
   "cell_type": "code",
   "execution_count": 36,
   "metadata": {},
   "outputs": [],
   "source": [
    "def retrieval_and_send_data_flights():\n",
    "    connection_string = connection()\n",
    "    airport_df = fetch_airport_data(connection_string)\n",
    "    flight_df = retrieve_flight_data(airport_df)\n",
    "    store_flight_data(flight_df,connection_string)\n",
    "    return 'Data updated'\n",
    "\n",
    "def connection():\n",
    "    schema = 'cities'\n",
    "    host = '127.0.0.1'\n",
    "    user = 'root'\n",
    "    password = sql_password\n",
    "    port = 3306\n",
    "    return f'mysql+pymysql://{user}:{password}@{host}:{port}/{schema}'\n",
    "\n",
    "def fetch_airport_data(connection_string):\n",
    "    return pd.read_sql('airport', con=connection_string)\n",
    "\n",
    "def retrieve_flight_data(airport_df):\n",
    "    berlin_timezone = timezone('Europe/Berlin')\n",
    "    #today = datetime.today()\n",
    "    tomorrow = (datetime.today() + timedelta(days=1)).strftime('%Y-%m-%d')\n",
    "    T1 =['00:00','12:00']\n",
    "    T2 =['11:59','23:59']\n",
    "    \n",
    "    flights =[]\n",
    "    for index,value in enumerate(T1):\n",
    "\n",
    "        for icao in airport_df['icao']:\n",
    "            url = f\"https://aerodatabox.p.rapidapi.com/flights/airports/icao/{icao}/{tomorrow}T{value}/{tomorrow}T{T2[index]}\"\n",
    "\n",
    "            querystring = {\"withLeg\":\"true\",\"direction\":\"Arrival\",\"withCancelled\":\"false\",\"withCodeshared\":\"true\",\"withCargo\":\"false\",\"withPrivate\":\"false\",\"withLocation\":\"false\"}\n",
    "\n",
    "            headers = {\n",
    "                \"x-rapidapi-key\": rapidapi_key,\n",
    "                \"x-rapidapi-host\": \"aerodatabox.p.rapidapi.com\"\n",
    "            }\n",
    "\n",
    "            response = requests.get(url, headers=headers, params=querystring)\n",
    "            flight_json = response.json()\n",
    "\n",
    "            retrieval_time = datetime.now(berlin_timezone).strftime(\"%Y-%m-%d %H:%M:%S\")\n",
    "\n",
    "            for item in flight_json['arrivals']:\n",
    "                flight ={\n",
    "                    'icao': icao,\n",
    "                    'scheduled_arrival':item['arrival']['scheduledTime'].get('local',None),\n",
    "                    'terminal':item['arrival'].get('terminal',None),\n",
    "                    'baggage_belt':item['arrival'].get('baggageBelt', 'not assigned'),\n",
    "                    'departure_airport':item['departure']['airport'].get('name',None),\n",
    "                    'flight_number':item.get('number',None),\n",
    "                    'airline':item['airline'].get('name',None),\n",
    "                    'data_retrieval_time': retrieval_time\n",
    "                }\n",
    "\n",
    "                flights.append(flight)\n",
    "\n",
    "    flight_df = pd.DataFrame(flights)\n",
    "    flight_df[\"scheduled_arrival\"] = flight_df[\"scheduled_arrival\"].str[:-6]\n",
    "    flight_df[\"scheduled_arrival\"] = pd.to_datetime(flight_df[\"scheduled_arrival\"])\n",
    "    flight_df['data_retrieval_time'] = pd.to_datetime(flight_df['data_retrieval_time'])\n",
    "\n",
    "    return flight_df\n",
    "\n",
    "def store_flight_data(flight_df,connection_string):\n",
    "    flight_df.to_sql('flight', if_exists='append', con=connection_string, index=False)"
   ]
  },
  {
   "cell_type": "code",
   "execution_count": 37,
   "metadata": {},
   "outputs": [
    {
     "data": {
      "text/plain": [
       "'Data updated'"
      ]
     },
     "execution_count": 37,
     "metadata": {},
     "output_type": "execute_result"
    }
   ],
   "source": [
    "# Run function\n",
    "retrieval_and_send_data_flights()"
   ]
  }
 ],
 "metadata": {
  "kernelspec": {
   "display_name": "Python 3",
   "language": "python",
   "name": "python3"
  },
  "language_info": {
   "codemirror_mode": {
    "name": "ipython",
    "version": 3
   },
   "file_extension": ".py",
   "mimetype": "text/x-python",
   "name": "python",
   "nbconvert_exporter": "python",
   "pygments_lexer": "ipython3",
   "version": "3.13.0"
  }
 },
 "nbformat": 4,
 "nbformat_minor": 2
}
